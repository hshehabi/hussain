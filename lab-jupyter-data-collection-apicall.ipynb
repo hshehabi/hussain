{
    "cells": [
        {
            "metadata": {},
            "cell_type": "markdown",
            "source": "<a href=\"https://cognitiveclass.ai/?utm_medium=Exinfluencer&utm_source=Exinfluencer&utm_content=000026UJ&utm_term=10006555&utm_id=NA-SkillsNetwork-Channel-SkillsNetworkCoursesIBMDeveloperSkillsNetworkRP0321ENSkillsNetwork25371262-2021-01-01\">\n    <img src=\"https://cf-courses-data.s3.us.cloud-object-storage.appdomain.cloud/IBMDeveloperSkillsNetwork-RP0101EN-Coursera/v2/M1_R_Basics/images/IDSNlogo.png\" width=\"200\" align=\"center\">\n</a>\n"
        },
        {
            "metadata": {},
            "cell_type": "markdown",
            "source": "<h1>OpenWeather APIs Calls</h1>\n\nEstimated time needed: **40** minutes\n"
        },
        {
            "metadata": {},
            "cell_type": "markdown",
            "source": "## Lab Overview:\n\nIn this lab, you will be collecting real-time current and forecasted weather data for cities using the **OpenWeather API**. It can give you current weather data for any location including over 200,000 cities and 5 day forecasts for free (with limited API usage). You just need to use HTTP requests to call those weather APIs and get the weather data.\n\nYou will be given instructions to set up a free OpenWeather API account with an API key for authentication. Then, you will be shown, with code examples, how to get the current weather for a given city. After you are familiar with OpenWeather API, you will be asked to get 5-day forecast data for a list of cities.\n"
        },
        {
            "metadata": {},
            "cell_type": "markdown",
            "source": "## Setup OpenWeather API account\n"
        },
        {
            "metadata": {},
            "cell_type": "markdown",
            "source": "You can create an OpenWeather API account [here](https://home.openweathermap.org/users/sign_up?utm_medium=Exinfluencer&utm_source=Exinfluencer&utm_content=000026UJ&utm_term=10006555&utm_id=NA-SkillsNetwork-Channel-SkillsNetworkCoursesIBMDeveloperSkillsNetworkRP0321ENSkillsNetwork25371262-2021-01-01). After your account has been created and verified, you can go to Account -> My API Keys:\n"
        },
        {
            "metadata": {},
            "cell_type": "markdown",
            "source": "<a href=\"https://cognitiveclass.ai/?utm_medium=Exinfluencer&utm_source=Exinfluencer&utm_content=000026UJ&utm_term=10006555&utm_id=NA-SkillsNetwork-Channel-SkillsNetworkCoursesIBMDeveloperSkillsNetworkRP0321ENSkillsNetwork25371262-2021-01-01\">\n    <img src=\"https://cf-courses-data.s3.us.cloud-object-storage.appdomain.cloud/IBMDeveloperSkillsNetwork-RP0321EN-SkillsNetwork/labs/module_1/images/l2-openweather-apikey.png\" width=\"400\" align=\"center\">\n</a>\n"
        },
        {
            "metadata": {},
            "cell_type": "markdown",
            "source": "and find your API key here:\n"
        },
        {
            "metadata": {},
            "cell_type": "markdown",
            "source": "<a href=\"https://cognitiveclass.ai/?utm_medium=Exinfluencer&utm_source=Exinfluencer&utm_content=000026UJ&utm_term=10006555&utm_id=NA-SkillsNetwork-Channel-SkillsNetworkCoursesIBMDeveloperSkillsNetworkRP0321ENSkillsNetwork25371262-2021-01-01\">\n    <img src=\"https://cf-courses-data.s3.us.cloud-object-storage.appdomain.cloud/IBMDeveloperSkillsNetwork-RP0321EN-SkillsNetwork/labs/module_1/images/l2-openweather-apikey-value.png\" width=\"400\" align=\"center\">\n</a>\n"
        },
        {
            "metadata": {},
            "cell_type": "code",
            "source": "# Now mark down your generated API key, which will be used to authenticate your HTTP requests to OpenWeather API.\n\nNote that a new API key may take some time to be activated. You may quickly try the following URL using a web browser.\n\nWith the `{your_api_key}` URL parameter replaced by your own API key and go to the following URL:\n\n[https://api.openweathermap.org/data/2.5/weather?q=Seoul\\&appid={your_api_key}](https://api.openweathermap.org/data/2.5/weather?utm_medium=Exinfluencer&utm_source=Exinfluencer&utm_content=000026UJ&utm_term=10006555&utm_id=NA-SkillsNetwork-Channel-SkillsNetworkCoursesIBMDeveloperSkillsNetworkRP0321ENSkillsNetwork25371262-2021-01-01&q=Seoul&appid=%7Byour_api_key%7D)\n",
            "execution_count": null,
            "outputs": []
        },
        {
            "metadata": {},
            "cell_type": "markdown",
            "source": "until you see some weather data returned (instead of 401 or other error status), similar to the following JSON result:\n\n```\n{\"coord\":{\"lon\":126.9778,\"lat\":37.5683},\n\"weather\":[{\"id\":800,\"main\":\"Clear\",\"description\":\"clear sky\",\"icon\":\"01n\"}],\n\"base\":\"stations\",\n\"main\":{\"temp\":285.16,\"feels_like\":284.04,\"temp_min\":284.15,\"temp_max\":287.15,\"pressure\":1020,\"humidity\":62},\n\"visibility\":10000,\n\"wind\":{\"speed\":1.03,\"deg\":220},\"clouds\":{\"all\":0},\"dt\":1617718307,\"sys\":{\"type\":1,\"id\":8105,\"country\":\"KR\",\"sunrise\":1617657021,\"sunset\":1617703103},\"timezone\":32400,\"id\":1835848,\"name\":\"Seoul\",\"cod\":200}\n```\n"
        },
        {
            "metadata": {},
            "cell_type": "markdown",
            "source": "## Coding Practice: Get the current weather data for a city using OpenWeather API\n"
        },
        {
            "metadata": {},
            "cell_type": "markdown",
            "source": "First import `httr` library\n"
        },
        {
            "metadata": {},
            "cell_type": "code",
            "source": "# Check if need to install rvest` library\nrequire(\"httr\")\n\nlibrary(httr)",
            "execution_count": 1,
            "outputs": [
                {
                    "output_type": "stream",
                    "text": "Loading required package: httr\n",
                    "name": "stderr"
                }
            ]
        },
        {
            "metadata": {},
            "cell_type": "markdown",
            "source": "The API base URL to get current weather is [https://api.openweathermap.org/data/2.5/weather](https://api.openweathermap.org/data/2.5/weather?utm_medium=Exinfluencer&utm_source=Exinfluencer&utm_content=000026UJ&utm_term=10006555&utm_id=NA-SkillsNetwork-Channel-SkillsNetworkCoursesIBMDeveloperSkillsNetworkRP0321ENSkillsNetwork25371262-2021-01-01)\n"
        },
        {
            "metadata": {},
            "cell_type": "code",
            "source": "# URL for Current Weather API\ncurrent_weather_url <- 'https://api.openweathermap.org/data/2.5/weather'",
            "execution_count": 155,
            "outputs": []
        },
        {
            "metadata": {},
            "cell_type": "markdown",
            "source": "Next, let's create a list to hold URL parameters for current weather API\n"
        },
        {
            "metadata": {},
            "cell_type": "code",
            "source": "# need to be replaced by your real API key\nyour_api_key <- \"d2559c5903373bd731fb63fdbbb33d05\"\n# Input `q` is the city name\n# Input `appid` is your API KEY, \n# Input `units` are preferred units such as Metric or Imperial\ncurrent_query <- list(q = \"Seoul\", appid = your_api_key, units=\"metric\")",
            "execution_count": 156,
            "outputs": []
        },
        {
            "metadata": {},
            "cell_type": "markdown",
            "source": "Now we can make a HTTP request to the current weather API\n"
        },
        {
            "metadata": {},
            "cell_type": "code",
            "source": "response <- GET(current_weather_url, query=current_query)",
            "execution_count": 157,
            "outputs": []
        },
        {
            "metadata": {},
            "cell_type": "markdown",
            "source": "If we check the response type, we can see it is in JSON format\n"
        },
        {
            "metadata": {},
            "cell_type": "code",
            "source": "http_type(response)",
            "execution_count": 158,
            "outputs": [
                {
                    "output_type": "display_data",
                    "data": {
                        "text/html": "'application/json'",
                        "text/markdown": "'application/json'",
                        "text/latex": "'application/json'",
                        "text/plain": "[1] \"application/json\""
                    },
                    "metadata": {}
                }
            ]
        },
        {
            "metadata": {},
            "cell_type": "markdown",
            "source": "JSON is an open standard file and data interchange format that uses human-readable text to store and transmit data objects. To read the JSON HTTP response, you can use the `content()` function to parse it as a named list in R.\n"
        },
        {
            "metadata": {},
            "cell_type": "code",
            "source": "json_result <- content(response, as=\"parsed\")",
            "execution_count": 159,
            "outputs": []
        },
        {
            "metadata": {},
            "cell_type": "markdown",
            "source": "If you use the `class()` function, you can see it is a R `List` object\n"
        },
        {
            "metadata": {},
            "cell_type": "code",
            "source": "class(json_result)",
            "execution_count": 160,
            "outputs": [
                {
                    "output_type": "display_data",
                    "data": {
                        "text/html": "'list'",
                        "text/markdown": "'list'",
                        "text/latex": "'list'",
                        "text/plain": "[1] \"list\""
                    },
                    "metadata": {}
                }
            ]
        },
        {
            "metadata": {},
            "cell_type": "markdown",
            "source": "Now let's print the JSON result.\n"
        },
        {
            "metadata": {},
            "cell_type": "code",
            "source": "json_result",
            "execution_count": 161,
            "outputs": [
                {
                    "output_type": "display_data",
                    "data": {
                        "text/html": "<dl>\n\t<dt>$coord</dt>\n\t\t<dd><dl>\n\t<dt>$lon</dt>\n\t\t<dd>126.9778</dd>\n\t<dt>$lat</dt>\n\t\t<dd>37.5683</dd>\n</dl>\n</dd>\n\t<dt>$weather</dt>\n\t\t<dd><ol>\n\t<li><dl>\n\t<dt>$id</dt>\n\t\t<dd>800</dd>\n\t<dt>$main</dt>\n\t\t<dd>'Clear'</dd>\n\t<dt>$description</dt>\n\t\t<dd>'clear sky'</dd>\n\t<dt>$icon</dt>\n\t\t<dd>'01n'</dd>\n</dl>\n</li>\n</ol>\n</dd>\n\t<dt>$base</dt>\n\t\t<dd>'stations'</dd>\n\t<dt>$main</dt>\n\t\t<dd><dl>\n\t<dt>$temp</dt>\n\t\t<dd>7.23</dd>\n\t<dt>$feels_like</dt>\n\t\t<dd>7.23</dd>\n\t<dt>$temp_min</dt>\n\t\t<dd>2.42</dd>\n\t<dt>$temp_max</dt>\n\t\t<dd>11.69</dd>\n\t<dt>$pressure</dt>\n\t\t<dd>1026</dd>\n\t<dt>$humidity</dt>\n\t\t<dd>90</dd>\n</dl>\n</dd>\n\t<dt>$visibility</dt>\n\t\t<dd>10000</dd>\n\t<dt>$wind</dt>\n\t\t<dd><dl>\n\t<dt>$speed</dt>\n\t\t<dd>0.51</dd>\n\t<dt>$deg</dt>\n\t\t<dd>130</dd>\n</dl>\n</dd>\n\t<dt>$clouds</dt>\n\t\t<dd><strong>$all</strong> = 0</dd>\n\t<dt>$dt</dt>\n\t\t<dd>1635446899</dd>\n\t<dt>$sys</dt>\n\t\t<dd><dl>\n\t<dt>$type</dt>\n\t\t<dd>1</dd>\n\t<dt>$id</dt>\n\t\t<dd>8105</dd>\n\t<dt>$country</dt>\n\t\t<dd>'KR'</dd>\n\t<dt>$sunrise</dt>\n\t\t<dd>1635458015</dd>\n\t<dt>$sunset</dt>\n\t\t<dd>1635496672</dd>\n</dl>\n</dd>\n\t<dt>$timezone</dt>\n\t\t<dd>32400</dd>\n\t<dt>$id</dt>\n\t\t<dd>1835848</dd>\n\t<dt>$name</dt>\n\t\t<dd>'Seoul'</dd>\n\t<dt>$cod</dt>\n\t\t<dd>200</dd>\n</dl>\n",
                        "text/markdown": "$coord\n:   $lon\n:   126.9778\n$lat\n:   37.5683\n\n\n\n$weather\n:   1. $id\n:   800\n$main\n:   'Clear'\n$description\n:   'clear sky'\n$icon\n:   '01n'\n\n\n\n\n\n\n$base\n:   'stations'\n$main\n:   $temp\n:   7.23\n$feels_like\n:   7.23\n$temp_min\n:   2.42\n$temp_max\n:   11.69\n$pressure\n:   1026\n$humidity\n:   90\n\n\n\n$visibility\n:   10000\n$wind\n:   $speed\n:   0.51\n$deg\n:   130\n\n\n\n$clouds\n:   **$all** = 0\n$dt\n:   1635446899\n$sys\n:   $type\n:   1\n$id\n:   8105\n$country\n:   'KR'\n$sunrise\n:   1635458015\n$sunset\n:   1635496672\n\n\n\n$timezone\n:   32400\n$id\n:   1835848\n$name\n:   'Seoul'\n$cod\n:   200\n\n\n",
                        "text/latex": "\\begin{description}\n\\item[\\$coord] \\begin{description}\n\\item[\\$lon] 126.9778\n\\item[\\$lat] 37.5683\n\\end{description}\n\n\\item[\\$weather] \\begin{enumerate}\n\\item \\begin{description}\n\\item[\\$id] 800\n\\item[\\$main] 'Clear'\n\\item[\\$description] 'clear sky'\n\\item[\\$icon] '01n'\n\\end{description}\n\n\\end{enumerate}\n\n\\item[\\$base] 'stations'\n\\item[\\$main] \\begin{description}\n\\item[\\$temp] 7.23\n\\item[\\$feels\\_like] 7.23\n\\item[\\$temp\\_min] 2.42\n\\item[\\$temp\\_max] 11.69\n\\item[\\$pressure] 1026\n\\item[\\$humidity] 90\n\\end{description}\n\n\\item[\\$visibility] 10000\n\\item[\\$wind] \\begin{description}\n\\item[\\$speed] 0.51\n\\item[\\$deg] 130\n\\end{description}\n\n\\item[\\$clouds] \\textbf{\\$all} = 0\n\\item[\\$dt] 1635446899\n\\item[\\$sys] \\begin{description}\n\\item[\\$type] 1\n\\item[\\$id] 8105\n\\item[\\$country] 'KR'\n\\item[\\$sunrise] 1635458015\n\\item[\\$sunset] 1635496672\n\\end{description}\n\n\\item[\\$timezone] 32400\n\\item[\\$id] 1835848\n\\item[\\$name] 'Seoul'\n\\item[\\$cod] 200\n\\end{description}\n",
                        "text/plain": "$coord\n$coord$lon\n[1] 126.9778\n\n$coord$lat\n[1] 37.5683\n\n\n$weather\n$weather[[1]]\n$weather[[1]]$id\n[1] 800\n\n$weather[[1]]$main\n[1] \"Clear\"\n\n$weather[[1]]$description\n[1] \"clear sky\"\n\n$weather[[1]]$icon\n[1] \"01n\"\n\n\n\n$base\n[1] \"stations\"\n\n$main\n$main$temp\n[1] 7.23\n\n$main$feels_like\n[1] 7.23\n\n$main$temp_min\n[1] 2.42\n\n$main$temp_max\n[1] 11.69\n\n$main$pressure\n[1] 1026\n\n$main$humidity\n[1] 90\n\n\n$visibility\n[1] 10000\n\n$wind\n$wind$speed\n[1] 0.51\n\n$wind$deg\n[1] 130\n\n\n$clouds\n$clouds$all\n[1] 0\n\n\n$dt\n[1] 1635446899\n\n$sys\n$sys$type\n[1] 1\n\n$sys$id\n[1] 8105\n\n$sys$country\n[1] \"KR\"\n\n$sys$sunrise\n[1] 1635458015\n\n$sys$sunset\n[1] 1635496672\n\n\n$timezone\n[1] 32400\n\n$id\n[1] 1835848\n\n$name\n[1] \"Seoul\"\n\n$cod\n[1] 200\n"
                    },
                    "metadata": {}
                }
            ]
        },
        {
            "metadata": {},
            "cell_type": "markdown",
            "source": "It contains very detailed weather data about the city of `Seoul`. Feel free to try other cities as well. We need to convert the named list to a data frame so that we can use data frame operations to process the data. Below is a simple example, which you may implement your own way to convert it to a data frame.\n"
        },
        {
            "metadata": {},
            "cell_type": "code",
            "source": "# Create some empty vectors to hold data temporarily\nweather <- c()\nvisibility <- c()\ntemp <- c()\ntemp_min <- c()\ntemp_max <- c()\npressure <- c()\nhumidity <- c()\nwind_speed <- c()\nwind_deg <- c()\n",
            "execution_count": 162,
            "outputs": []
        },
        {
            "metadata": {},
            "cell_type": "markdown",
            "source": "Now assign the values in the `json_result` list into different vectors\n"
        },
        {
            "metadata": {},
            "cell_type": "code",
            "source": "# $weather is also a list with one element, its $main element indicates the weather status such as clear or rain\nweather <- c(weather, json_result$weather[[1]]$main)\n# Get Visibility\nvisibility <- c(visibility, json_result$visibility)\n# Get current temperature \ntemp <- c(temp, json_result$main$temp)\n# Get min temperature \ntemp_min <- c(temp_min, json_result$main$temp_min)\n# Get max temperature \ntemp_max <- c(temp_max, json_result$main$temp_max)\n# Get pressure\npressure <- c(pressure, json_result$main$pressure)\n# Get humidity\nhumidity <- c(humidity, json_result$main$humidity)\n# Get wind speed\nwind_speed <- c(wind_speed, json_result$wind$speed)\n# Get wind direction\nwind_deg <- c(wind_deg, json_result$wind$deg)\n",
            "execution_count": 163,
            "outputs": []
        },
        {
            "metadata": {},
            "cell_type": "markdown",
            "source": "Combine all vectors as columns of a data frame\n"
        },
        {
            "metadata": {},
            "cell_type": "code",
            "source": "# Combine all vectors\nweather_data_frame <- data.frame(weather=weather, \n                                 visibility=visibility, \n                                 temp=temp, \n                                 temp_min=temp_min, \n                                 temp_max=temp_max, \n                                 pressure=pressure, \n                                 humidity=humidity, \n                                 wind_speed=wind_speed, \n                                 wind_deg=wind_deg)",
            "execution_count": 164,
            "outputs": []
        },
        {
            "metadata": {},
            "cell_type": "code",
            "source": "# Check the generated data frame\nprint(weather_data_frame)",
            "execution_count": 165,
            "outputs": [
                {
                    "output_type": "stream",
                    "text": "  weather visibility temp temp_min temp_max pressure humidity wind_speed\n1   Clear      10000 7.23     2.42    11.69     1026       90       0.51\n  wind_deg\n1      130\n",
                    "name": "stdout"
                }
            ]
        },
        {
            "metadata": {},
            "cell_type": "markdown",
            "source": "# TASK:  Get 5-day weather forecasts for a list of cities using the OpenWeather API\n"
        },
        {
            "metadata": {},
            "cell_type": "markdown",
            "source": "Now you should be familiar with the usage of OpenWeather API. Next, you need to complete a task to get 5-day weather forecasts for a list of cities\n"
        },
        {
            "metadata": {},
            "cell_type": "markdown",
            "source": "*TODO:* Write a function to return a data frame containing 5-day weather forecasts for a list of cities\n"
        },
        {
            "metadata": {},
            "cell_type": "code",
            "source": "# Create some empty vectors to hold data temporarily\n\n# City name column\ncity <- c()\n# Weather column, rainy or cloudy, etc\nweather <- c()\n# Sky visibility column\nvisibility <- c()\n# Current temperature column\ntemp <- c()\n# Max temperature column\ntemp_min <- c()\n# Min temperature column\ntemp_max <- c()\n# Pressure column\npressure <- c()\n# Humidity column\nhumidity <- c()\n# Wind speed column\nwind_speed <- c()\n# Wind direction column\nwind_deg <- c()\n# Forecast timestamp\nforecast_datetime <- c()\n# Season column\n# Note that for season, you can hard code a season value from levels Spring, Summer, Autumn, and Winter based on your current month.\nseason <- c()\n\n",
            "execution_count": 2,
            "outputs": []
        },
        {
            "metadata": {},
            "cell_type": "code",
            "source": "# Get forecast data for a given city list\nget_weather_forecaset_by_cities <- function(city_names){\n    df <- data.frame()\n    for (city_name in city_names){\n        # Forecast API URL\n        forecast_url <- 'https://api.openweathermap.org/data/2.5/forecast'\n        # Create query parameters\n        forecast_query <- list(q = city_name, appid = \"{your_api_key}\", units=\"metric\")\n        # Make HTTP GET call for the given city\n        response <- GET(forecast_url, query=forecast_query)\n        result <- content(response, as=\"parsed\")\n        # Note that the 5-day forecast JSON result is a list of lists. You can print the reponse to check the results\n        results <- result$list\n        \n        # Loop the json result\n        for(result in results) {\n                    city <- c(city , city_name)\n\n            # City name column\n\n        }\n        \n        # Add the R Lists into a data frame\n# Weather column, rainy or cloudy, etc\nweather <- c(weather, result$weather[[1]]$main)\n# Sky visibility column\nvisibility <- c(visibility  , result$main$visibility )\n# Current temperature column\ntemp <- c(temp  , result$main$temp )\n# Max temperature column\ntemp_min <- c(temp_min  , result$main$temp_min )\n# Min temperature column\ntemp_max <- c(temp_max  , result$main$temp_max)\n# Pressure column\npressure <- c(pressure  , result$main$pressure )\n# Humidity column\nhumidity <- c(humidity  , result$main$humidity )\n# Wind speed column\nwind_speed <- c(wind_speed  , result$wind$speed )\n# Wind direction column\nwind_deg <- c(wind_deg  , result$wind$deg )\n# Forecast timestamp\nforecast_datetime <- c(forecast_datetime, result$dt_txt)\n# Season column\n# Note that for season, you can hard code a season value from levels Spring, Summer, Autumn, and Winter based on your current month.\n           #print(forecast_datetime)\n            #print(as.Date(result$dt_txt))\n        months <- as(format(as.Date.numeric(forecast_datetime), '%m'))\n           \n            indx <- setNames( rep(c('winter', 'spring', 'summer',\n                   'fall'),each=3), c(12,1:11))\n             #print(months)\n             season <- unname(indx[as.character(months)])\n             #print(season)\n        \n        df<-data.frame(city=city, weather=weather,visibility=visibility,temp=temp,temp_min=temp_min,\ntemp_max=temp_max,\npressure=pressure,\nhumidity=humidity,\nwind_speed=wind_speed,\nwind_deg=wind_deg,\nforecast_datetime=forecast_datetime,\nseason=season )\n    }\n    \n    # Return a data frame\n    return(df)\n    \n}\n\n",
            "execution_count": 93,
            "outputs": []
        },
        {
            "metadata": {},
            "cell_type": "markdown",
            "source": "Complete and call `get_weather_forecaset_by_cities` function with a list of cities, and write the data frame into a csv file called `cities_weather_forecast.csv`\n"
        },
        {
            "metadata": {},
            "cell_type": "code",
            "source": "cities <- c(\"Seoul\", \"Washington, D.C.\", \"Paris\", \"Suzhou\")\ncities_weather_df <- get_weather_forecaset_by_cities(cities)\nsummary(cities_weather_df)",
            "execution_count": 92,
            "outputs": [
                {
                    "output_type": "stream",
                    "text": "NULL\n",
                    "name": "stdout"
                },
                {
                    "output_type": "error",
                    "ename": "ERROR",
                    "evalue": "Error in as.Date.default(x, ...): do not know how to convert 'x' to class \u201cDate\u201d\n",
                    "traceback": [
                        "Error in as.Date.default(x, ...): do not know how to convert 'x' to class \u201cDate\u201d\nTraceback:\n",
                        "1. get_weather_forecaset_by_cities(cities)",
                        "2. print(as.Date(result$dt_txt))   # at line 47 of file <text>",
                        "3. as.Date(result$dt_txt)   # at line 47 of file <text>",
                        "4. as.Date.default(result$dt_txt)",
                        "5. base::as.Date(x, ...)",
                        "6. as.Date.default(x, ...)",
                        "7. stop(gettextf(\"do not know how to convert '%s' to class %s\", \n .     deparse(substitute(x)), dQuote(\"Date\")), domain = NA)"
                    ]
                }
            ]
        },
        {
            "metadata": {},
            "cell_type": "code",
            "source": "# Write cities_weather_df to `cities_weather_forecast.csv`\nwrite.csv(cities_weather_df, \"cities_weather_forecast.csv\", row.names=FALSE)",
            "execution_count": 169,
            "outputs": []
        },
        {
            "metadata": {},
            "cell_type": "markdown",
            "source": "For more details about HTTP requests with `httr`, please refer to the previous HTTP request notebook here:\n\n[HTTP request in R](https://cf-courses-data.s3.us.cloud-object-storage.appdomain.cloud/IBMDeveloperSkillsNetwork-RP0101EN-Coursera/v2/M4\\_Working_With_Data/lab2\\_jupyter_http-request.ipynb)\n"
        },
        {
            "metadata": {},
            "cell_type": "markdown",
            "source": "## TASK: Download datasets as csv files from cloud storage\n"
        },
        {
            "metadata": {},
            "cell_type": "markdown",
            "source": "The last task of this lab is straightforward: download some aggregated datasets from cloud storage\n"
        },
        {
            "metadata": {},
            "cell_type": "code",
            "source": "# Download several datasets\n\n# Download some general city information such as name and locations\nurl <- \"https://cf-courses-data.s3.us.cloud-object-storage.appdomain.cloud/IBMDeveloperSkillsNetwork-RP0321EN-SkillsNetwork/labs/datasets/raw_worldcities.csv\"\n# download the file\ndownload.file(url, destfile = \"raw_worldcities.csv\")\n\n# Download a specific hourly Seoul bike sharing demand dataset\nurl <- \"https://cf-courses-data.s3.us.cloud-object-storage.appdomain.cloud/IBMDeveloperSkillsNetwork-RP0321EN-SkillsNetwork/labs/datasets/raw_seoul_bike_sharing.csv\"\n# download the file\ndownload.file(url, destfile = \"raw_seoul_bike_sharing.csv\")",
            "execution_count": 25,
            "outputs": []
        },
        {
            "metadata": {},
            "cell_type": "markdown",
            "source": "## Next Step\n"
        },
        {
            "metadata": {},
            "cell_type": "markdown",
            "source": "Now you should collect all datasets required for this project, all in csv format. Feel free to explore them preliminarily now. However, they are the raw datasets and have to be processed for further data visualization or data analysis.\n\nIn the next module, you will improve their quality by performing data wrangling tasks.\n"
        },
        {
            "metadata": {},
            "cell_type": "markdown",
            "source": "## Authors\n\n<a href=\"https://www.linkedin.com/in/yan-luo-96288783/?utm_medium=Exinfluencer&utm_source=Exinfluencer&utm_content=000026UJ&utm_term=10006555&utm_id=NA-SkillsNetwork-Channel-SkillsNetworkCoursesIBMDeveloperSkillsNetworkRP0321ENSkillsNetwork25371262-2021-01-01\" target=\"_blank\">Yan Luo</a>\n"
        },
        {
            "metadata": {},
            "cell_type": "markdown",
            "source": "### Other Contributors\n"
        },
        {
            "metadata": {},
            "cell_type": "markdown",
            "source": "## Change Log\n\n| Date (YYYY-MM-DD) | Version | Changed By | Change Description      |\n| ----------------- | ------- | ---------- | ----------------------- |\n| 2021-04-05        | 0.1     | Yan        | Initial version created |\n|                   |         |            |                         |\n|                   |         |            |                         |\n\n## <h3 align=\"center\"> \u00a9 IBM Corporation 2021. All rights reserved. <h3/>\n"
        }
    ],
    "metadata": {
        "kernelspec": {
            "name": "r-3.6",
            "display_name": "R 3.6",
            "language": "R"
        },
        "language_info": {
            "name": "R",
            "codemirror_mode": "r",
            "pygments_lexer": "r",
            "mimetype": "text/x-r-source",
            "file_extension": ".r",
            "version": "3.6.1"
        }
    },
    "nbformat": 4,
    "nbformat_minor": 4
}